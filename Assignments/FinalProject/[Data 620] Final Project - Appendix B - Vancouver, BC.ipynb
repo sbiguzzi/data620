{
 "cells": [
  {
   "cell_type": "code",
   "execution_count": 39,
   "id": "e0b57ad3",
   "metadata": {},
   "outputs": [],
   "source": [
    "# general libraries\n",
    "import pandas as pd\n",
    "import pandas.util.testing as tm\n",
    "import matplotlib.pyplot as plt\n",
    "import numpy as np\n",
    "import warnings\n",
    "import os\n",
    "import re\n",
    "import seaborn as sns\n",
    "from IPython.display import IFrame\n",
    "\n",
    "# network analysis\n",
    "import networkx as nx\n",
    "from networkx.algorithms import bipartite\n",
    "\n",
    "# text analysis\n",
    "import string\n",
    "from sklearn.metrics.pairwise import cosine_similarity\n",
    "from sklearn.feature_extraction.text import CountVectorizer\n",
    "from sklearn.feature_extraction.text import TfidfVectorizer\n",
    "from scipy.sparse import csr_matrix\n",
    "import sparse_dot_topn.sparse_dot_topn as ct\n",
    "from nltk.corpus import stopwords\n",
    "stopwords = stopwords.words('english')\n",
    "\n",
    "# formatting commands\n",
    "%matplotlib inline\n",
    "warnings.filterwarnings('ignore')\n",
    "sns.set_theme(context='notebook', style='darkgrid', palette='deep', font_scale=1.5)"
   ]
  },
  {
   "cell_type": "code",
   "execution_count": 2,
   "id": "58f0a51a",
   "metadata": {},
   "outputs": [],
   "source": [
    "def component_size_one(G):\n",
    "    '''Take a graph G and return a list of the \n",
    "       connected components of size 1 and the\n",
    "       number of connected components of size 1'''\n",
    "    components = [list(G) for G in nx.connected_components(G) if len(G) == 1]\n",
    "    num_components = len(components)\n",
    "    return components, num_components\n",
    "\n",
    "# function to get large graph components\n",
    "def giant_component_size(G):\n",
    "    '''Take a graph G and return the largest connected component, \n",
    "        a list of the connected components > 1 and \n",
    "        the number of connected components > 1'''\n",
    "    components = [(len(G), list(G)) for G in nx.connected_components(G) if len(G) > 1]\n",
    "    num_components = len(components)\n",
    "    GCC = [y[1] for y in components if y[0]\n",
    "           == max([x[0] for x in components])][0]\n",
    "    return GCC, components, num_components\n",
    "\n",
    "# function to clean string\n",
    "def clean_string(text):\n",
    "    '''Take any text and return a cleaned version of the text\n",
    "        without punctuation, lower cased, and removes stopwords'''\n",
    "    text = ''.join([w for w in text if w not in string.punctuation])\n",
    "    text = text.lower()\n",
    "    text = ' '.join([w for w in text.split() if w not in stopwords])\n",
    "    \n",
    "    return text\n",
    "\n",
    "# function to get the ngrams of a word or phrase\n",
    "def ngrams(string, n=2):\n",
    "    '''Takes any string removes characters, and creates\n",
    "        ngrams of length n. Returns string and ngrams of\n",
    "        string'''\n",
    "    string = re.sub(r'[,-./]|\\sBD',r'', string)\n",
    "    ngrams = zip(*[string[i:] for i in range(n)])\n",
    "    return [''.join(ngram) for ngram in ngrams]\n",
    "\n",
    "# function to get the top n cosine similarity scores\n",
    "def cos_sim_top(A, B, ntop, lower_bound=0):\n",
    "    '''Takes any matrix A and B and returns the top n\n",
    "        matching values with the higest cosine similarity\n",
    "        score'''\n",
    "    \n",
    "    A = A.tocsr()\n",
    "    B = B.tocsr()\n",
    "    M, _ = A.shape\n",
    "    _, N = B.shape\n",
    " \n",
    "    idx_dtype = np.int32\n",
    " \n",
    "    nnz_max = M*ntop\n",
    " \n",
    "    indptr = np.zeros(M+1, dtype=idx_dtype)\n",
    "    indices = np.zeros(nnz_max, dtype=idx_dtype)\n",
    "    data = np.zeros(nnz_max, dtype=A.dtype)\n",
    "    ct.sparse_dot_topn(\n",
    "        M, N, np.asarray(A.indptr, dtype=idx_dtype),\n",
    "        np.asarray(A.indices, dtype=idx_dtype),\n",
    "        A.data,\n",
    "        np.asarray(B.indptr, dtype=idx_dtype),\n",
    "        np.asarray(B.indices, dtype=idx_dtype),\n",
    "        B.data,\n",
    "        ntop,\n",
    "        lower_bound,\n",
    "        indptr, indices, data)\n",
    "    return csr_matrix((data,indices,indptr),shape=(M,N))\n",
    "\n",
    "# function to return the names that were run through the cossim_top function\n",
    "def get_matches_df(sparse_matrix, name_vector, top=None):\n",
    "    '''Takes any sparse matrix constructed from a name vector\n",
    "        and returns the names and scores of values in the sparse\n",
    "        matrix with a defned % cut off'''\n",
    "    \n",
    "    non_zeros = sparse_matrix.nonzero()\n",
    "    \n",
    "    sparserows = non_zeros[0]\n",
    "    sparsecols = non_zeros[1]\n",
    "    \n",
    "    if top:\n",
    "        nr_matches = top\n",
    "    else:\n",
    "        nr_matches = sparsecols.size\n",
    "    \n",
    "    left_side = np.empty([nr_matches], dtype=object)\n",
    "    right_side = np.empty([nr_matches], dtype=object)\n",
    "    similairity = np.zeros(nr_matches)\n",
    "    \n",
    "    for index in range(0, nr_matches):\n",
    "        left_side[index] = name_vector[sparserows[index]]\n",
    "        right_side[index] = name_vector[sparsecols[index]]\n",
    "        similairity[index] = sparse_matrix.data[index]\n",
    "    \n",
    "    return pd.DataFrame({'left_side': left_side,\n",
    "                          'right_side': right_side,\n",
    "                           'similarity': similairity})"
   ]
  },
  {
   "cell_type": "code",
   "execution_count": 3,
   "id": "bcfd3ef2",
   "metadata": {},
   "outputs": [
    {
     "name": "stdout",
     "output_type": "stream",
     "text": [
      "/Users/dpong/Data 620/data_620_su2021/data620/Assignments/FinalProject\r\n"
     ]
    }
   ],
   "source": [
    "# !pwd"
   ]
  },
  {
   "cell_type": "code",
   "execution_count": 4,
   "id": "ff0a3006",
   "metadata": {},
   "outputs": [
    {
     "data": {
      "text/plain": [
       "(4299, 74)"
      ]
     },
     "execution_count": 4,
     "metadata": {},
     "output_type": "execute_result"
    }
   ],
   "source": [
    "# loading listing data\n",
    "\n",
    "listing_df = pd.read_csv('listings_vancouver.csv',dtype=object)\n",
    "listing_df.rename(columns={'id':'listing_id'},inplace=True)\n",
    "listing_df.shape"
   ]
  },
  {
   "cell_type": "code",
   "execution_count": 5,
   "id": "9676fd75",
   "metadata": {},
   "outputs": [
    {
     "data": {
      "text/html": [
       "<div>\n",
       "<style scoped>\n",
       "    .dataframe tbody tr th:only-of-type {\n",
       "        vertical-align: middle;\n",
       "    }\n",
       "\n",
       "    .dataframe tbody tr th {\n",
       "        vertical-align: top;\n",
       "    }\n",
       "\n",
       "    .dataframe thead th {\n",
       "        text-align: right;\n",
       "    }\n",
       "</style>\n",
       "<table border=\"1\" class=\"dataframe\">\n",
       "  <thead>\n",
       "    <tr style=\"text-align: right;\">\n",
       "      <th></th>\n",
       "      <th>listing_id</th>\n",
       "      <th>listing_url</th>\n",
       "      <th>scrape_id</th>\n",
       "      <th>last_scraped</th>\n",
       "      <th>name</th>\n",
       "      <th>description</th>\n",
       "      <th>neighborhood_overview</th>\n",
       "      <th>picture_url</th>\n",
       "      <th>host_id</th>\n",
       "      <th>host_url</th>\n",
       "      <th>...</th>\n",
       "      <th>review_scores_communication</th>\n",
       "      <th>review_scores_location</th>\n",
       "      <th>review_scores_value</th>\n",
       "      <th>license</th>\n",
       "      <th>instant_bookable</th>\n",
       "      <th>calculated_host_listings_count</th>\n",
       "      <th>calculated_host_listings_count_entire_homes</th>\n",
       "      <th>calculated_host_listings_count_private_rooms</th>\n",
       "      <th>calculated_host_listings_count_shared_rooms</th>\n",
       "      <th>reviews_per_month</th>\n",
       "    </tr>\n",
       "  </thead>\n",
       "  <tbody>\n",
       "    <tr>\n",
       "      <th>0</th>\n",
       "      <td>10080</td>\n",
       "      <td>https://www.airbnb.com/rooms/10080</td>\n",
       "      <td>20210412154228</td>\n",
       "      <td>2021-04-13</td>\n",
       "      <td>D1 -  Million Dollar View 2 BR</td>\n",
       "      <td>Stunning two bedroom, two bathroom apartment. ...</td>\n",
       "      <td>NaN</td>\n",
       "      <td>https://a0.muscache.com/pictures/55778229/c2f7...</td>\n",
       "      <td>30899</td>\n",
       "      <td>https://www.airbnb.com/users/show/30899</td>\n",
       "      <td>...</td>\n",
       "      <td>9</td>\n",
       "      <td>10</td>\n",
       "      <td>9</td>\n",
       "      <td>18-476608</td>\n",
       "      <td>f</td>\n",
       "      <td>40</td>\n",
       "      <td>40</td>\n",
       "      <td>0</td>\n",
       "      <td>0</td>\n",
       "      <td>0.14</td>\n",
       "    </tr>\n",
       "    <tr>\n",
       "      <th>1</th>\n",
       "      <td>13358</td>\n",
       "      <td>https://www.airbnb.com/rooms/13358</td>\n",
       "      <td>20210412154228</td>\n",
       "      <td>2021-04-13</td>\n",
       "      <td>Monthly (or Longer ) Designer One Bedroom Down...</td>\n",
       "      <td>&lt;b&gt;The space&lt;/b&gt;&lt;br /&gt;This suites central loca...</td>\n",
       "      <td>NaN</td>\n",
       "      <td>https://a0.muscache.com/pictures/c23bb7ef-e300...</td>\n",
       "      <td>52116</td>\n",
       "      <td>https://www.airbnb.com/users/show/52116</td>\n",
       "      <td>...</td>\n",
       "      <td>10</td>\n",
       "      <td>10</td>\n",
       "      <td>9</td>\n",
       "      <td>18-611603</td>\n",
       "      <td>f</td>\n",
       "      <td>1</td>\n",
       "      <td>1</td>\n",
       "      <td>0</td>\n",
       "      <td>0</td>\n",
       "      <td>3.27</td>\n",
       "    </tr>\n",
       "    <tr>\n",
       "      <th>2</th>\n",
       "      <td>13490</td>\n",
       "      <td>https://www.airbnb.com/rooms/13490</td>\n",
       "      <td>20210412154228</td>\n",
       "      <td>2021-04-13</td>\n",
       "      <td>Vancouver's best kept secret</td>\n",
       "      <td>This apartment rents for one month blocks of t...</td>\n",
       "      <td>In the heart of Vancouver, this apartment has ...</td>\n",
       "      <td>https://a0.muscache.com/pictures/73394727/79d5...</td>\n",
       "      <td>52467</td>\n",
       "      <td>https://www.airbnb.com/users/show/52467</td>\n",
       "      <td>...</td>\n",
       "      <td>10</td>\n",
       "      <td>10</td>\n",
       "      <td>10</td>\n",
       "      <td>NaN</td>\n",
       "      <td>f</td>\n",
       "      <td>1</td>\n",
       "      <td>1</td>\n",
       "      <td>0</td>\n",
       "      <td>0</td>\n",
       "      <td>0.73</td>\n",
       "    </tr>\n",
       "    <tr>\n",
       "      <th>3</th>\n",
       "      <td>14267</td>\n",
       "      <td>https://www.airbnb.com/rooms/14267</td>\n",
       "      <td>20210412154228</td>\n",
       "      <td>2021-04-13</td>\n",
       "      <td>EcoLoft Vancouver</td>\n",
       "      <td>The Ecoloft is located in the lovely, family r...</td>\n",
       "      <td>We live in the centre of the city of Vancouver...</td>\n",
       "      <td>https://a0.muscache.com/pictures/3646de9b-934e...</td>\n",
       "      <td>56030</td>\n",
       "      <td>https://www.airbnb.com/users/show/56030</td>\n",
       "      <td>...</td>\n",
       "      <td>9</td>\n",
       "      <td>10</td>\n",
       "      <td>9</td>\n",
       "      <td>21-156500</td>\n",
       "      <td>t</td>\n",
       "      <td>1</td>\n",
       "      <td>1</td>\n",
       "      <td>0</td>\n",
       "      <td>0</td>\n",
       "      <td>0.26</td>\n",
       "    </tr>\n",
       "    <tr>\n",
       "      <th>4</th>\n",
       "      <td>16254</td>\n",
       "      <td>https://www.airbnb.com/rooms/16254</td>\n",
       "      <td>20210412154228</td>\n",
       "      <td>2021-04-12</td>\n",
       "      <td>Close to PNE/Hastings Park and East Village</td>\n",
       "      <td>2 Bedroom garden level guest suite.(lower leve...</td>\n",
       "      <td>Good Eats, Cute Shops and all the personality ...</td>\n",
       "      <td>https://a0.muscache.com/pictures/90623667/583c...</td>\n",
       "      <td>63238</td>\n",
       "      <td>https://www.airbnb.com/users/show/63238</td>\n",
       "      <td>...</td>\n",
       "      <td>10</td>\n",
       "      <td>10</td>\n",
       "      <td>9</td>\n",
       "      <td>19-162421</td>\n",
       "      <td>t</td>\n",
       "      <td>1</td>\n",
       "      <td>1</td>\n",
       "      <td>0</td>\n",
       "      <td>0</td>\n",
       "      <td>0.15</td>\n",
       "    </tr>\n",
       "  </tbody>\n",
       "</table>\n",
       "<p>5 rows × 74 columns</p>\n",
       "</div>"
      ],
      "text/plain": [
       "  listing_id                         listing_url       scrape_id last_scraped  \\\n",
       "0      10080  https://www.airbnb.com/rooms/10080  20210412154228   2021-04-13   \n",
       "1      13358  https://www.airbnb.com/rooms/13358  20210412154228   2021-04-13   \n",
       "2      13490  https://www.airbnb.com/rooms/13490  20210412154228   2021-04-13   \n",
       "3      14267  https://www.airbnb.com/rooms/14267  20210412154228   2021-04-13   \n",
       "4      16254  https://www.airbnb.com/rooms/16254  20210412154228   2021-04-12   \n",
       "\n",
       "                                                name  \\\n",
       "0                     D1 -  Million Dollar View 2 BR   \n",
       "1  Monthly (or Longer ) Designer One Bedroom Down...   \n",
       "2                       Vancouver's best kept secret   \n",
       "3                                  EcoLoft Vancouver   \n",
       "4        Close to PNE/Hastings Park and East Village   \n",
       "\n",
       "                                         description  \\\n",
       "0  Stunning two bedroom, two bathroom apartment. ...   \n",
       "1  <b>The space</b><br />This suites central loca...   \n",
       "2  This apartment rents for one month blocks of t...   \n",
       "3  The Ecoloft is located in the lovely, family r...   \n",
       "4  2 Bedroom garden level guest suite.(lower leve...   \n",
       "\n",
       "                               neighborhood_overview  \\\n",
       "0                                                NaN   \n",
       "1                                                NaN   \n",
       "2  In the heart of Vancouver, this apartment has ...   \n",
       "3  We live in the centre of the city of Vancouver...   \n",
       "4  Good Eats, Cute Shops and all the personality ...   \n",
       "\n",
       "                                         picture_url host_id  \\\n",
       "0  https://a0.muscache.com/pictures/55778229/c2f7...   30899   \n",
       "1  https://a0.muscache.com/pictures/c23bb7ef-e300...   52116   \n",
       "2  https://a0.muscache.com/pictures/73394727/79d5...   52467   \n",
       "3  https://a0.muscache.com/pictures/3646de9b-934e...   56030   \n",
       "4  https://a0.muscache.com/pictures/90623667/583c...   63238   \n",
       "\n",
       "                                  host_url  ... review_scores_communication  \\\n",
       "0  https://www.airbnb.com/users/show/30899  ...                           9   \n",
       "1  https://www.airbnb.com/users/show/52116  ...                          10   \n",
       "2  https://www.airbnb.com/users/show/52467  ...                          10   \n",
       "3  https://www.airbnb.com/users/show/56030  ...                           9   \n",
       "4  https://www.airbnb.com/users/show/63238  ...                          10   \n",
       "\n",
       "  review_scores_location review_scores_value    license instant_bookable  \\\n",
       "0                     10                   9  18-476608                f   \n",
       "1                     10                   9  18-611603                f   \n",
       "2                     10                  10        NaN                f   \n",
       "3                     10                   9  21-156500                t   \n",
       "4                     10                   9  19-162421                t   \n",
       "\n",
       "  calculated_host_listings_count calculated_host_listings_count_entire_homes  \\\n",
       "0                             40                                          40   \n",
       "1                              1                                           1   \n",
       "2                              1                                           1   \n",
       "3                              1                                           1   \n",
       "4                              1                                           1   \n",
       "\n",
       "  calculated_host_listings_count_private_rooms  \\\n",
       "0                                            0   \n",
       "1                                            0   \n",
       "2                                            0   \n",
       "3                                            0   \n",
       "4                                            0   \n",
       "\n",
       "  calculated_host_listings_count_shared_rooms reviews_per_month  \n",
       "0                                           0              0.14  \n",
       "1                                           0              3.27  \n",
       "2                                           0              0.73  \n",
       "3                                           0              0.26  \n",
       "4                                           0              0.15  \n",
       "\n",
       "[5 rows x 74 columns]"
      ]
     },
     "execution_count": 5,
     "metadata": {},
     "output_type": "execute_result"
    }
   ],
   "source": [
    "listing_df.head()"
   ]
  },
  {
   "cell_type": "code",
   "execution_count": 7,
   "id": "2b6c9ac8",
   "metadata": {},
   "outputs": [
    {
     "data": {
      "text/plain": [
       "(147146, 6)"
      ]
     },
     "execution_count": 7,
     "metadata": {},
     "output_type": "execute_result"
    }
   ],
   "source": [
    "# loading reviews data\n",
    "\n",
    "reviews_df = pd.read_csv(\"reviews_vancouver.csv\", dtype = object)\n",
    "reviews_df.shape"
   ]
  },
  {
   "cell_type": "code",
   "execution_count": 8,
   "id": "ccf63322",
   "metadata": {},
   "outputs": [
    {
     "data": {
      "text/plain": [
       "(147070, 6)"
      ]
     },
     "execution_count": 8,
     "metadata": {},
     "output_type": "execute_result"
    }
   ],
   "source": [
    "# drop null comments from review data\n",
    "reviews_df.dropna(inplace=True)\n",
    "reviews_df.shape"
   ]
  },
  {
   "cell_type": "code",
   "execution_count": 9,
   "id": "ef07367b",
   "metadata": {},
   "outputs": [
    {
     "data": {
      "text/plain": [
       "(146329, 6)"
      ]
     },
     "execution_count": 9,
     "metadata": {},
     "output_type": "execute_result"
    }
   ],
   "source": [
    "# drop reviews containing 'This is an automated posting'\n",
    "automated = reviews_df[reviews_df.comments.str.contains('This is an automated posting')].index\n",
    "reviews_df.drop(index=automated, inplace=True)\n",
    "reviews_df.shape"
   ]
  },
  {
   "cell_type": "code",
   "execution_count": 10,
   "id": "cb712540",
   "metadata": {},
   "outputs": [],
   "source": [
    "# reviews_df.listing_id.sort_values(ascending = True).unique()"
   ]
  },
  {
   "cell_type": "code",
   "execution_count": 11,
   "id": "0bd0cb5a",
   "metadata": {},
   "outputs": [
    {
     "data": {
      "text/plain": [
       "(146329, 8)"
      ]
     },
     "execution_count": 11,
     "metadata": {},
     "output_type": "execute_result"
    }
   ],
   "source": [
    "# set up dataframes to merge\n",
    "df_review = reviews_df[['listing_id', 'reviewer_id', 'reviewer_name', 'id', 'date', 'comments']].copy()\n",
    "df_listing = listing_df[['listing_id', 'host_id', 'host_name']].copy()\n",
    "\n",
    "# merge the dataframes\n",
    "df_merged = pd.merge(df_review, df_listing, how='left', on='listing_id')\n",
    "df_merged.shape"
   ]
  },
  {
   "cell_type": "code",
   "execution_count": 12,
   "id": "d752b83b",
   "metadata": {},
   "outputs": [
    {
     "data": {
      "text/plain": [
       "(4299, 3)"
      ]
     },
     "execution_count": 12,
     "metadata": {},
     "output_type": "execute_result"
    }
   ],
   "source": [
    "df_listing.shape"
   ]
  },
  {
   "cell_type": "code",
   "execution_count": 13,
   "id": "9c0de2c0",
   "metadata": {},
   "outputs": [
    {
     "data": {
      "text/html": [
       "<div>\n",
       "<style scoped>\n",
       "    .dataframe tbody tr th:only-of-type {\n",
       "        vertical-align: middle;\n",
       "    }\n",
       "\n",
       "    .dataframe tbody tr th {\n",
       "        vertical-align: top;\n",
       "    }\n",
       "\n",
       "    .dataframe thead th {\n",
       "        text-align: right;\n",
       "    }\n",
       "</style>\n",
       "<table border=\"1\" class=\"dataframe\">\n",
       "  <thead>\n",
       "    <tr style=\"text-align: right;\">\n",
       "      <th></th>\n",
       "      <th>listing_id</th>\n",
       "      <th>host_id</th>\n",
       "      <th>host_name</th>\n",
       "    </tr>\n",
       "  </thead>\n",
       "  <tbody>\n",
       "    <tr>\n",
       "      <th>0</th>\n",
       "      <td>10080</td>\n",
       "      <td>30899</td>\n",
       "      <td>Rami</td>\n",
       "    </tr>\n",
       "    <tr>\n",
       "      <th>1</th>\n",
       "      <td>13358</td>\n",
       "      <td>52116</td>\n",
       "      <td>Lynn</td>\n",
       "    </tr>\n",
       "    <tr>\n",
       "      <th>2</th>\n",
       "      <td>13490</td>\n",
       "      <td>52467</td>\n",
       "      <td>Iris</td>\n",
       "    </tr>\n",
       "    <tr>\n",
       "      <th>3</th>\n",
       "      <td>14267</td>\n",
       "      <td>56030</td>\n",
       "      <td>Peter &amp; Alison</td>\n",
       "    </tr>\n",
       "    <tr>\n",
       "      <th>4</th>\n",
       "      <td>16254</td>\n",
       "      <td>63238</td>\n",
       "      <td>Jason</td>\n",
       "    </tr>\n",
       "  </tbody>\n",
       "</table>\n",
       "</div>"
      ],
      "text/plain": [
       "  listing_id host_id       host_name\n",
       "0      10080   30899            Rami\n",
       "1      13358   52116            Lynn\n",
       "2      13490   52467            Iris\n",
       "3      14267   56030  Peter & Alison\n",
       "4      16254   63238           Jason"
      ]
     },
     "execution_count": 13,
     "metadata": {},
     "output_type": "execute_result"
    }
   ],
   "source": [
    "df_listing.head()"
   ]
  },
  {
   "cell_type": "code",
   "execution_count": 15,
   "id": "3bda0a5a",
   "metadata": {},
   "outputs": [
    {
     "data": {
      "text/html": [
       "<div>\n",
       "<style scoped>\n",
       "    .dataframe tbody tr th:only-of-type {\n",
       "        vertical-align: middle;\n",
       "    }\n",
       "\n",
       "    .dataframe tbody tr th {\n",
       "        vertical-align: top;\n",
       "    }\n",
       "\n",
       "    .dataframe thead th {\n",
       "        text-align: right;\n",
       "    }\n",
       "</style>\n",
       "<table border=\"1\" class=\"dataframe\">\n",
       "  <thead>\n",
       "    <tr style=\"text-align: right;\">\n",
       "      <th></th>\n",
       "      <th>listing_id</th>\n",
       "      <th>reviewer_id</th>\n",
       "      <th>reviewer_name</th>\n",
       "      <th>id</th>\n",
       "      <th>date</th>\n",
       "      <th>comments</th>\n",
       "      <th>host_id</th>\n",
       "      <th>host_name</th>\n",
       "    </tr>\n",
       "  </thead>\n",
       "  <tbody>\n",
       "    <tr>\n",
       "      <th>16</th>\n",
       "      <td>13358</td>\n",
       "      <td>142680</td>\n",
       "      <td>Eurassia</td>\n",
       "      <td>56256</td>\n",
       "      <td>2010-06-22</td>\n",
       "      <td>Stunning apartment, absolutely gorgeous interi...</td>\n",
       "      <td>52116</td>\n",
       "      <td>Lynn</td>\n",
       "    </tr>\n",
       "    <tr>\n",
       "      <th>17</th>\n",
       "      <td>13358</td>\n",
       "      <td>141138</td>\n",
       "      <td>Christine</td>\n",
       "      <td>60340</td>\n",
       "      <td>2010-07-03</td>\n",
       "      <td>Very nice flat in the city center, walking dis...</td>\n",
       "      <td>52116</td>\n",
       "      <td>Lynn</td>\n",
       "    </tr>\n",
       "    <tr>\n",
       "      <th>18</th>\n",
       "      <td>13358</td>\n",
       "      <td>151075</td>\n",
       "      <td>Alina</td>\n",
       "      <td>61832</td>\n",
       "      <td>2010-07-06</td>\n",
       "      <td>My husband and I stayed at Linda's apartment f...</td>\n",
       "      <td>52116</td>\n",
       "      <td>Lynn</td>\n",
       "    </tr>\n",
       "    <tr>\n",
       "      <th>19</th>\n",
       "      <td>13358</td>\n",
       "      <td>157548</td>\n",
       "      <td>Eric</td>\n",
       "      <td>66070</td>\n",
       "      <td>2010-07-18</td>\n",
       "      <td>This cozy and stylish suite has an ideal locat...</td>\n",
       "      <td>52116</td>\n",
       "      <td>Lynn</td>\n",
       "    </tr>\n",
       "    <tr>\n",
       "      <th>20</th>\n",
       "      <td>13358</td>\n",
       "      <td>153300</td>\n",
       "      <td>Rhona</td>\n",
       "      <td>82509</td>\n",
       "      <td>2010-08-22</td>\n",
       "      <td>I had an amazing (almost) 2wks at the apartmen...</td>\n",
       "      <td>52116</td>\n",
       "      <td>Lynn</td>\n",
       "    </tr>\n",
       "    <tr>\n",
       "      <th>...</th>\n",
       "      <td>...</td>\n",
       "      <td>...</td>\n",
       "      <td>...</td>\n",
       "      <td>...</td>\n",
       "      <td>...</td>\n",
       "      <td>...</td>\n",
       "      <td>...</td>\n",
       "      <td>...</td>\n",
       "    </tr>\n",
       "    <tr>\n",
       "      <th>440</th>\n",
       "      <td>13358</td>\n",
       "      <td>7534549</td>\n",
       "      <td>Deborah</td>\n",
       "      <td>499640147</td>\n",
       "      <td>2019-07-31</td>\n",
       "      <td>Very cute place. Lynn is an excellent host - r...</td>\n",
       "      <td>52116</td>\n",
       "      <td>Lynn</td>\n",
       "    </tr>\n",
       "    <tr>\n",
       "      <th>441</th>\n",
       "      <td>13358</td>\n",
       "      <td>27508852</td>\n",
       "      <td>Ray</td>\n",
       "      <td>502608768</td>\n",
       "      <td>2019-08-04</td>\n",
       "      <td>Great, comfortable and cozy condo.  Close to r...</td>\n",
       "      <td>52116</td>\n",
       "      <td>Lynn</td>\n",
       "    </tr>\n",
       "    <tr>\n",
       "      <th>442</th>\n",
       "      <td>13358</td>\n",
       "      <td>42550140</td>\n",
       "      <td>Fang</td>\n",
       "      <td>657970607</td>\n",
       "      <td>2020-08-29</td>\n",
       "      <td>Handy location, easy to go anywhere.\\n\\nHighly...</td>\n",
       "      <td>52116</td>\n",
       "      <td>Lynn</td>\n",
       "    </tr>\n",
       "    <tr>\n",
       "      <th>443</th>\n",
       "      <td>13358</td>\n",
       "      <td>8036704</td>\n",
       "      <td>Jean-Francois</td>\n",
       "      <td>670570469</td>\n",
       "      <td>2020-10-03</td>\n",
       "      <td>Lynn's place is cozy, well situated and we'll ...</td>\n",
       "      <td>52116</td>\n",
       "      <td>Lynn</td>\n",
       "    </tr>\n",
       "    <tr>\n",
       "      <th>444</th>\n",
       "      <td>13358</td>\n",
       "      <td>23570320</td>\n",
       "      <td>Desiree</td>\n",
       "      <td>720567914</td>\n",
       "      <td>2021-01-01</td>\n",
       "      <td>The apartment is very well located for walking...</td>\n",
       "      <td>52116</td>\n",
       "      <td>Lynn</td>\n",
       "    </tr>\n",
       "  </tbody>\n",
       "</table>\n",
       "<p>429 rows × 8 columns</p>\n",
       "</div>"
      ],
      "text/plain": [
       "    listing_id reviewer_id  reviewer_name         id        date  \\\n",
       "16       13358      142680       Eurassia      56256  2010-06-22   \n",
       "17       13358      141138      Christine      60340  2010-07-03   \n",
       "18       13358      151075          Alina      61832  2010-07-06   \n",
       "19       13358      157548           Eric      66070  2010-07-18   \n",
       "20       13358      153300          Rhona      82509  2010-08-22   \n",
       "..         ...         ...            ...        ...         ...   \n",
       "440      13358     7534549        Deborah  499640147  2019-07-31   \n",
       "441      13358    27508852            Ray  502608768  2019-08-04   \n",
       "442      13358    42550140           Fang  657970607  2020-08-29   \n",
       "443      13358     8036704  Jean-Francois  670570469  2020-10-03   \n",
       "444      13358    23570320        Desiree  720567914  2021-01-01   \n",
       "\n",
       "                                              comments host_id host_name  \n",
       "16   Stunning apartment, absolutely gorgeous interi...   52116      Lynn  \n",
       "17   Very nice flat in the city center, walking dis...   52116      Lynn  \n",
       "18   My husband and I stayed at Linda's apartment f...   52116      Lynn  \n",
       "19   This cozy and stylish suite has an ideal locat...   52116      Lynn  \n",
       "20   I had an amazing (almost) 2wks at the apartmen...   52116      Lynn  \n",
       "..                                                 ...     ...       ...  \n",
       "440  Very cute place. Lynn is an excellent host - r...   52116      Lynn  \n",
       "441  Great, comfortable and cozy condo.  Close to r...   52116      Lynn  \n",
       "442  Handy location, easy to go anywhere.\\n\\nHighly...   52116      Lynn  \n",
       "443  Lynn's place is cozy, well situated and we'll ...   52116      Lynn  \n",
       "444  The apartment is very well located for walking...   52116      Lynn  \n",
       "\n",
       "[429 rows x 8 columns]"
      ]
     },
     "execution_count": 15,
     "metadata": {},
     "output_type": "execute_result"
    }
   ],
   "source": [
    "df_merged[df_merged.listing_id == \"13358\"]"
   ]
  },
  {
   "cell_type": "code",
   "execution_count": null,
   "id": "32eeb23c",
   "metadata": {},
   "outputs": [],
   "source": []
  },
  {
   "cell_type": "code",
   "execution_count": 16,
   "id": "b6c9c49b",
   "metadata": {},
   "outputs": [
    {
     "name": "stdout",
     "output_type": "stream",
     "text": [
      "<class 'pandas.core.frame.DataFrame'>\n",
      "Int64Index: 142497 entries, 0 to 146328\n",
      "Data columns (total 8 columns):\n",
      " #   Column         Non-Null Count   Dtype \n",
      "---  ------         --------------   ----- \n",
      " 0   listing_id     142497 non-null  object\n",
      " 1   reviewer_id    142497 non-null  int64 \n",
      " 2   reviewer_name  142497 non-null  object\n",
      " 3   id             142497 non-null  object\n",
      " 4   date           142497 non-null  object\n",
      " 5   comments       142497 non-null  object\n",
      " 6   host_id        142497 non-null  object\n",
      " 7   host_name      142497 non-null  object\n",
      "dtypes: int64(1), object(7)\n",
      "memory usage: 9.8+ MB\n"
     ]
    }
   ],
   "source": [
    "# clean the merged dataframe\n",
    "df_merged.dropna(inplace=True)\n",
    "df_merged.drop_duplicates(subset=['id'], inplace=True)\n",
    "df_merged.comments = df_merged.comments.map(lambda x: x.replace('\\r', ''))\n",
    "df_merged.reviewer_id = df_merged.reviewer_id.astype(int)\n",
    "df_merged.info()"
   ]
  },
  {
   "cell_type": "code",
   "execution_count": 17,
   "id": "2743f5d6",
   "metadata": {},
   "outputs": [],
   "source": [
    "# calculate the number of reviews per hosts\n",
    "host_review_counts = df_merged.groupby('host_id')[['id']].nunique().reset_index()\n",
    "host_review_counts.rename(columns={'id': 'host_review_count'}, inplace=True)\n",
    "\n",
    "# calculate reviews per reviewer\n",
    "reviewer_review_counts = df_merged.groupby('reviewer_id')[['id']].nunique().reset_index()\n",
    "reviewer_review_counts.rename(columns={'id': 'reviewer_review_count'}, inplace=True)\n",
    "\n",
    "# calculate number of listings by host\n",
    "host_listing_counts = df_merged.groupby('host_id')[['listing_id']].nunique().reset_index()\n",
    "host_listing_counts.rename(columns={'listing_id': 'host_listing_counts'}, inplace=True)\n",
    "\n",
    "# calculate number of hosts reviewed by reviewers\n",
    "reviewer_host_counts = df_merged.groupby(['reviewer_id'])[['host_id']].nunique().reset_index()\n",
    "reviewer_host_counts.rename(columns={'host_id': 'reviewer_host_counts'}, inplace=True)"
   ]
  },
  {
   "cell_type": "code",
   "execution_count": 18,
   "id": "d5d8955e",
   "metadata": {},
   "outputs": [
    {
     "data": {
      "text/plain": [
       "(142497, 12)"
      ]
     },
     "execution_count": 18,
     "metadata": {},
     "output_type": "execute_result"
    }
   ],
   "source": [
    "df_merged_final = pd.merge(df_merged, host_review_counts, how='left', on='host_id')\n",
    "df_merged_final = pd.merge(df_merged_final, reviewer_review_counts, how='left', on='reviewer_id')\n",
    "df_merged_final = pd.merge(df_merged_final, host_listing_counts, how='left', on='host_id')\n",
    "df_merged_final = pd.merge(df_merged_final, reviewer_host_counts, how='left', on='reviewer_id')\n",
    "df_merged_final.shape"
   ]
  },
  {
   "cell_type": "code",
   "execution_count": 19,
   "id": "cf4c044a",
   "metadata": {},
   "outputs": [
    {
     "data": {
      "image/png": "[encoded data removed]",
      "text/plain": [
       "<Figure size 1152x1152 with 4 Axes>"
      ]
     },
     "metadata": {
      "needs_background": "light"
     },
     "output_type": "display_data"
    }
   ],
   "source": [
    "# plot histograms of host counts and reviewer counts\n",
    "fig, ax = plt.subplots(nrows = 2, ncols=2, figsize=(16, 16))\n",
    "sns.histplot(host_review_counts.host_review_count, ax=ax[0,0])\n",
    "sns.histplot(reviewer_review_counts.reviewer_review_count, ax=ax[0,1])\n",
    "sns.histplot(host_listing_counts.host_listing_counts, ax=ax[1,0])\n",
    "sns.histplot(reviewer_host_counts.reviewer_host_counts, ax=ax[1,1])\n",
    "ax[0,0].set_title('Reviews per host distribution')\n",
    "ax[0,1].set_title('Reviews per reviewer distribution')\n",
    "ax[1,0].set_title('Listings per host distribution')\n",
    "ax[1,1].set_title('Hosts reviewed by reviewers distribution')\n",
    "\n",
    "for a in ax.flatten():\n",
    "    a.set_xlabel('')\n",
    "    a.tick_params(axis='x', labelsize=12, labelrotation=0)\n",
    "    a.set_yscale('log')\n",
    "\n",
    "plt.show()"
   ]
  },
  {
   "cell_type": "code",
   "execution_count": 20,
   "id": "32b876f1",
   "metadata": {},
   "outputs": [
    {
     "data": {
      "text/plain": [
       "(18, 12)"
      ]
     },
     "execution_count": 20,
     "metadata": {},
     "output_type": "execute_result"
    }
   ],
   "source": [
    "subset = df_merged_final[df_merged_final.duplicated(subset=['host_id', 'reviewer_id'], keep=False)].copy()\n",
    "subset = subset[subset.host_listing_counts >= 5]\n",
    "subset = subset[subset.reviewer_host_counts > 2]\n",
    "subset.drop_duplicates(subset=['host_id', 'reviewer_id', 'listing_id', 'date'], keep=False, inplace=True)\n",
    "subset.shape"
   ]
  },
  {
   "cell_type": "code",
   "execution_count": 21,
   "id": "c029d586",
   "metadata": {},
   "outputs": [
    {
     "data": {
      "text/plain": [
       "(18, 12)"
      ]
     },
     "execution_count": 21,
     "metadata": {},
     "output_type": "execute_result"
    }
   ],
   "source": [
    "subset = df_merged_final[df_merged_final.duplicated(subset=['host_id', 'reviewer_id'], keep = False)].copy()\n",
    "subset = subset[subset.host_listing_counts >= 5]\n",
    "subset = subset[subset.reviewer_host_counts > 2]\n",
    "subset.drop_duplicates(subset=['host_id', 'reviewer_id', 'listing_id', 'date'], inplace=True)\n",
    "subset.shape"
   ]
  },
  {
   "cell_type": "code",
   "execution_count": 22,
   "id": "8021a7d8",
   "metadata": {},
   "outputs": [
    {
     "name": "stdout",
     "output_type": "stream",
     "text": [
      "Number of reviewers:  8\n",
      "Number of hosts:  5\n"
     ]
    }
   ],
   "source": [
    "print('Number of reviewers: ', len(subset.reviewer_id.unique()))\n",
    "print('Number of hosts: ', len(subset.host_id.unique()))"
   ]
  },
  {
   "cell_type": "code",
   "execution_count": 23,
   "id": "f6d1844f",
   "metadata": {},
   "outputs": [],
   "source": [
    "hosts = dict(subset[['host_id', 'host_name']].values)\n",
    "reviewers = dict(subset[['reviewer_id', 'reviewer_name']].values)\n",
    "labels_dict = {**reviewers, **hosts}"
   ]
  },
  {
   "cell_type": "markdown",
   "id": "6bf89d41",
   "metadata": {},
   "source": [
    "### Initial 2-Mode Network"
   ]
  },
  {
   "cell_type": "code",
   "execution_count": 24,
   "id": "34f08640",
   "metadata": {},
   "outputs": [
    {
     "data": {
      "text/plain": [
       "8"
      ]
     },
     "execution_count": 24,
     "metadata": {},
     "output_type": "execute_result"
    }
   ],
   "source": [
    "subset.reviewer_id.nunique()"
   ]
  },
  {
   "cell_type": "code",
   "execution_count": 25,
   "id": "6afb5e54",
   "metadata": {},
   "outputs": [
    {
     "data": {
      "text/plain": [
       "5"
      ]
     },
     "execution_count": 25,
     "metadata": {},
     "output_type": "execute_result"
    }
   ],
   "source": [
    "subset.host_id.nunique()"
   ]
  },
  {
   "cell_type": "code",
   "execution_count": 26,
   "id": "4d8d92db",
   "metadata": {},
   "outputs": [],
   "source": [
    "G = nx.Graph()\n",
    "# Use bipartite 0 or 1 to denote which node it belongs to\n",
    "G.add_nodes_from(subset.reviewer_id.unique(), bipartite=0)\n",
    "G.add_nodes_from(subset.host_id.unique(), bipartite=1)\n",
    "G.add_edges_from(subset[['reviewer_id', 'host_id']].values)"
   ]
  },
  {
   "cell_type": "code",
   "execution_count": 27,
   "id": "ecc5a759",
   "metadata": {},
   "outputs": [
    {
     "name": "stdout",
     "output_type": "stream",
     "text": [
      "Name: \n",
      "Type: Graph\n",
      "Number of nodes: 13\n",
      "Number of edges: 8\n",
      "Average degree:   1.2308\n"
     ]
    }
   ],
   "source": [
    "print(nx.info(G))"
   ]
  },
  {
   "cell_type": "code",
   "execution_count": 32,
   "id": "3e2b89a6",
   "metadata": {},
   "outputs": [
    {
     "data": {
      "image/png": "[encoded data removed]",
      "text/plain": [
       "<Figure size 1440x1440 with 1 Axes>"
      ]
     },
     "metadata": {
      "needs_background": "light"
     },
     "output_type": "display_data"
    }
   ],
   "source": [
    "# nodes\n",
    "reviewer_nodes = subset.reviewer_id.unique().tolist()\n",
    "host_nodes = subset.host_id.unique().tolist()\n",
    "\n",
    "# create plot\n",
    "plt.figure(figsize=(20, 20))\n",
    "pos = nx.spring_layout(G,iterations=35)\n",
    "nx.draw_networkx_nodes(G, pos, node_size=100, node_color=['red']*len(reviewer_nodes) +\n",
    "        ['blue']*(len(host_nodes)))\n",
    "nx.draw_networkx_edges(G, pos, width=1)\n",
    "plt.axis(\"off\")\n",
    "plt.show()"
   ]
  },
  {
   "cell_type": "markdown",
   "id": "bb2dfd5d",
   "metadata": {},
   "source": [
    "### Bipartite host graph"
   ]
  },
  {
   "cell_type": "code",
   "execution_count": 33,
   "id": "0dce7dec",
   "metadata": {},
   "outputs": [
    {
     "data": {
      "image/png": "[encoded data removed]",
      "text/plain": [
       "<Figure size 1440x1440 with 1 Axes>"
      ]
     },
     "metadata": {
      "needs_background": "light"
     },
     "output_type": "display_data"
    }
   ],
   "source": [
    "# look at projected graph (on hosts)\n",
    "host_nodes = subset.host_id.unique().tolist()\n",
    "B = bipartite.projected_graph(G, host_nodes)\n",
    "\n",
    "pos = nx.spring_layout(B,iterations=15)\n",
    "labels = {node: labels_dict[node] for node in B.nodes()}\n",
    "\n",
    "# create plot\n",
    "plt.figure(figsize=(20,20))\n",
    "nx.draw_networkx_nodes(B, pos, node_size=100)\n",
    "nx.draw_networkx_edges(B, pos, width=1,alpha=0.6)\n",
    "# nx.draw_networkx_labels(B, pos, labels=labels, font_size=10, font_family=\"sans-serif\")\n",
    "plt.axis(\"off\")\n",
    "plt.show()"
   ]
  },
  {
   "cell_type": "code",
   "execution_count": 34,
   "id": "0c800ae7",
   "metadata": {},
   "outputs": [
    {
     "name": "stdout",
     "output_type": "stream",
     "text": [
      "Number of components:\n",
      " 5\n"
     ]
    }
   ],
   "source": [
    "# identify the components with no links\n",
    "components_one, n_one = component_size_one(B)\n",
    "components_one = [item for sublist in components_one for item in sublist]\n",
    "\n",
    "print(\"Number of components:\\n\", n_one)"
   ]
  },
  {
   "cell_type": "code",
   "execution_count": 38,
   "id": "d3f3a25e",
   "metadata": {},
   "outputs": [
    {
     "data": {
      "image/png": "[encoded data removed]",
      "text/plain": [
       "<Figure size 1800x1800 with 1 Axes>"
      ]
     },
     "metadata": {
      "needs_background": "light"
     },
     "output_type": "display_data"
    }
   ],
   "source": [
    "# remove the hosts with no links and plot the remaining ones\n",
    "B.remove_nodes_from(components_one)\n",
    "\n",
    "pos = nx.spring_layout(B,iterations=16)\n",
    "labels = {node: labels_dict[node] for node in B.nodes()}\n",
    "\n",
    "plt.figure(figsize=(25,25))\n",
    "# nx.draw_networkx(B, pos, with_labels=False, node_size=100)\n",
    "nx.draw_networkx_nodes(B, pos, node_size=50)\n",
    "nx.draw_networkx_edges(B, pos, width=1,alpha=0.5)\n",
    "# nx.draw_networkx_labels(B, pos, labels=labels, font_size=12, font_family=\"sans-serif\")\n",
    "plt.axis(\"off\")\n",
    "plt.show()"
   ]
  },
  {
   "cell_type": "code",
   "execution_count": null,
   "id": "697a2bb4",
   "metadata": {},
   "outputs": [],
   "source": []
  },
  {
   "cell_type": "code",
   "execution_count": null,
   "id": "d3dc5070",
   "metadata": {},
   "outputs": [],
   "source": []
  }
 ],
 "metadata": {
  "kernelspec": {
   "display_name": "Python 3",
   "language": "python",
   "name": "python3"
  },
  "language_info": {
   "codemirror_mode": {
    "name": "ipython",
    "version": 3
   },
   "file_extension": ".py",
   "mimetype": "text/x-python",
   "name": "python",
   "nbconvert_exporter": "python",
   "pygments_lexer": "ipython3",
   "version": "3.7.10"
  }
 },
 "nbformat": 4,
 "nbformat_minor": 5
}
