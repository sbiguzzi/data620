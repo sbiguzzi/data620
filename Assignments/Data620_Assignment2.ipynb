{
 "cells": [
  {
   "cell_type": "markdown",
   "metadata": {},
   "source": [
    "# Homework 2.1 - Assignment: Graph Visualization\n",
    "###### Stefano Biguzzi, Ian Costello, Dennis Pong\n",
    "\n",
    "## Assignment Description\n",
    "This week's assignment is to:\n",
    "1. Load a graph database of your choosing from a text file or other source. If you take a large network dataset from the web (such as from https://snap.stanford.edu/data/), please feel free at this point to load just a small subset of the nodes and edges.\n",
    "2. Create basic analysis on the graph, including the graph’s diameter, and at least one other metric of your choosing. You may either code the functions by hand (to build your intuition and insight), or use functions in an existing package.\n",
    "3. Use a visualization tool of your choice (Neo4j, Gephi, etc.) to display information.\n",
    "4. Please record a short video (~ 5 minutes), and submit a link to the video as part of your homework submission.\n",
    "\n",
    "## Assignment Steps\n",
    "### Loading graph\n",
    "First import the libraries necessary for this assignment: `networkx` as \"nx\" and `network` from `pyvis` as \"net\". We also import `pandas`."
   ]
  },
  {
   "cell_type": "code",
   "execution_count": 85,
   "metadata": {},
   "outputs": [],
   "source": [
    "import networkx as nx\n",
    "from pyvis import network as net\n",
    "import pandas as pd\n",
    "import matplotlib.pyplot as plt"
   ]
  },
  {
   "cell_type": "markdown",
   "metadata": {},
   "source": [
    "First we import the Bitcoin OTC transaction database from Github, with user rating data from [Bitcoin OTC trust weighted signed network](https://snap.stanford.edu/data/soc-sign-bitcoin-otc.html). The original dataset has 5,881 nodes, but was cut down to 500 nodes for the purposes of this assignment. Taken from the website here is a little description of the data:  \n",
    "\"_This is who-trusts-whom network of people who trade using Bitcoin on a platform called Bitcoin OTC. Since Bitcoin users are anonymous, there is a need to maintain a record of users' reputation to prevent transactions with fraudulent and risky users. Members of Bitcoin OTC rate other members in a scale of -10 (total distrust) to +10 (total trust) in steps of 1. This is the first explicit weighted signed directed network available for research._\""
   ]
  },
  {
   "cell_type": "code",
   "execution_count": 86,
   "metadata": {},
   "outputs": [],
   "source": [
    "url = 'https://raw.githubusercontent.com/sbiguzzi/data620/main/Assignments/soc-sign-bitcoinotc.csv'\n",
    "bitcoin_data = pd.read_csv(url,header=0)[:100]"
   ]
  },
  {
   "cell_type": "markdown",
   "metadata": {},
   "source": [
    "Next we instantiate the `nx.Graph()`"
   ]
  },
  {
   "cell_type": "code",
   "execution_count": 91,
   "metadata": {},
   "outputs": [],
   "source": [
    "bit_g = net.Network(notebook=True)\n",
    "bit_g = nx.Graph()"
   ]
  },
  {
   "cell_type": "markdown",
   "metadata": {},
   "source": [
    "We then have to assign nodes and edges to our graph, `bit_g`. To do this we  \n",
    "1. Seperate the source node, the target node, and the rating into seperate lists"
   ]
  },
  {
   "cell_type": "code",
   "execution_count": 92,
   "metadata": {},
   "outputs": [],
   "source": [
    "source = bitcoin_data['Source']\n",
    "target = bitcoin_data['Target']\n",
    "rating = bitcoin_data['Rating']"
   ]
  },
  {
   "cell_type": "markdown",
   "metadata": {},
   "source": [
    "2. Zip the data into a list of tuple containing the (source,target,rating)"
   ]
  },
  {
   "cell_type": "code",
   "execution_count": 93,
   "metadata": {},
   "outputs": [],
   "source": [
    "edge_data = zip(source, target, rating)"
   ]
  },
  {
   "cell_type": "markdown",
   "metadata": {},
   "source": [
    "3. Use the function `add_node()` to assign each source node in the tuple to a node on the graph\n",
    "4. Use the function `add_edges()` to assign edges connecting each source and target node, using the ratings as a weight for the edge"
   ]
  },
  {
   "cell_type": "code",
   "execution_count": 94,
   "metadata": {
    "scrolled": false
   },
   "outputs": [],
   "source": [
    "for e in edge_data:\n",
    "    src = e[0]\n",
    "    tgt = e[1]\n",
    "    rat = e[2]\n",
    "    bit_g.add_node(src)\n",
    "    bit_g.add_edge(src,tgt,weight=rat)"
   ]
  },
  {
   "cell_type": "markdown",
   "metadata": {},
   "source": [
    "### Graph metrics\n",
    "We find the diameter of the graph by using the function `diameter()` from the nx library."
   ]
  },
  {
   "cell_type": "code",
   "execution_count": 95,
   "metadata": {},
   "outputs": [
    {
     "name": "stdout",
     "output_type": "stream",
     "text": [
      "The diameter of the graph is: 6\n"
     ]
    }
   ],
   "source": [
    "print(\"The diameter of the graph is:\",nx.diameter(bit_g))"
   ]
  },
  {
   "cell_type": "markdown",
   "metadata": {},
   "source": [
    "We find the degree centrality score for each node to decide which node is the most important based on the number of connections it has. We use degree_centrality() function which returns back a dictionary of node as keys and degree centrality as values."
   ]
  },
  {
   "cell_type": "code",
   "execution_count": 96,
   "metadata": {
    "scrolled": false
   },
   "outputs": [
    {
     "name": "stdout",
     "output_type": "stream",
     "text": [
      "Example dictionary: \n",
      " {'6: 0.1891891891891892', '7: 0.2702702702702703', '5: 0.08108108108108109', '8: 0.08108108108108109', '1: 0.3783783783783784', '4: 0.13513513513513514', '10: 0.21621621621621623', '2: 0.13513513513513514', '3: 0.13513513513513514'}\n"
     ]
    }
   ],
   "source": [
    "deg_centrality = nx.degree_centrality(bit_g)\n",
    "print('Example dictionary: \\n',{str(i)+': '+str(deg_centrality[i]) for i in range(1,11) if i in deg_centrality.keys()})"
   ]
  },
  {
   "cell_type": "markdown",
   "metadata": {},
   "source": [
    "We could then find the node with the highest degree centrality by assigning the values and keys to a list and taking the index of the max value and finding the key with the same index. We thought this was the most relevant measure because each user is rating their experience with other users, so the more connections you have the more ratings and presumably the higher ratings you have."
   ]
  },
  {
   "cell_type": "code",
   "execution_count": 97,
   "metadata": {},
   "outputs": [
    {
     "name": "stdout",
     "output_type": "stream",
     "text": [
      "The node with the highest degree centrality is: 1\n"
     ]
    }
   ],
   "source": [
    "deg_centrality_vals = list(deg_centrality.values())\n",
    "deg_centrality_keys = list(deg_centrality.keys())\n",
    "print(\"The node with the highest degree centrality is:\",\n",
    "      deg_centrality_keys[deg_centrality_vals.index(max(deg_centrality.values()))])"
   ]
  },
  {
   "cell_type": "markdown",
   "metadata": {},
   "source": [
    "### Visualizing graph\n",
    "we use the `pyvis` package Network class to instatiate a new Network."
   ]
  },
  {
   "cell_type": "code",
   "execution_count": 98,
   "metadata": {},
   "outputs": [],
   "source": [
    "bit_vis_g = net.Network(height='1000px', width='100%', bgcolor='#222222', font_color='white', notebook=True)"
   ]
  },
  {
   "cell_type": "markdown",
   "metadata": {},
   "source": [
    "We assign the node list as the list of all the source and target nodes from the dataset."
   ]
  },
  {
   "cell_type": "code",
   "execution_count": 99,
   "metadata": {},
   "outputs": [],
   "source": [
    "nodes = set(source.append(target))\n",
    "bit_vis_g.add_nodes(nodes)"
   ]
  },
  {
   "cell_type": "markdown",
   "metadata": {},
   "source": [
    "We reassign the edge_data by using zip and add the edges to the Network by making the zip into a list."
   ]
  },
  {
   "cell_type": "code",
   "execution_count": 100,
   "metadata": {},
   "outputs": [],
   "source": [
    "edge_data = zip(source, target, rating)\n",
    "bit_vis_g.add_edges(list(edge_data))"
   ]
  },
  {
   "cell_type": "markdown",
   "metadata": {},
   "source": [
    "Finally we call the `show()` funciton to show the graph."
   ]
  },
  {
   "cell_type": "code",
   "execution_count": 101,
   "metadata": {},
   "outputs": [
    {
     "data": {
      "text/html": [
       "\n",
       "        <iframe\n",
       "            width=\"100%\"\n",
       "            height=\"1000px\"\n",
       "            src=\"Bitcoin_OTC_Graph.html\"\n",
       "            frameborder=\"0\"\n",
       "            allowfullscreen\n",
       "        ></iframe>\n",
       "        "
      ],
      "text/plain": [
       "<IPython.lib.display.IFrame at 0x22c45458040>"
      ]
     },
     "execution_count": 101,
     "metadata": {},
     "output_type": "execute_result"
    }
   ],
   "source": [
    "bit_vis_g.show(\"Bitcoin_OTC_Graph.html\")"
   ]
  }
 ],
 "metadata": {
  "kernelspec": {
   "display_name": "Python 3",
   "language": "python",
   "name": "python3"
  },
  "language_info": {
   "codemirror_mode": {
    "name": "ipython",
    "version": 3
   },
   "file_extension": ".py",
   "mimetype": "text/x-python",
   "name": "python",
   "nbconvert_exporter": "python",
   "pygments_lexer": "ipython3",
   "version": "3.8.5"
  }
 },
 "nbformat": 4,
 "nbformat_minor": 5
}
