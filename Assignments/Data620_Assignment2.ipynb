{
 "cells": [
  {
   "cell_type": "markdown",
   "id": "af1bbdec",
   "metadata": {},
   "source": [
    "# Homework 2.1 - Assignment: Graph Visualization\n",
    "###### Stefano Biguzzi, Ian Costello, Dennis Pong, Karim Hammoud\n",
    "\n",
    "## Assignment Description\n",
    "This week's assignment is to:\n",
    "1. Load a graph database of your choosing from a text file or other source. If you take a large network dataset from the web (such as from https://snap.stanford.edu/data/), please feel free at this point to load just a small subset of the nodes and edges.\n",
    "2. Create basic analysis on the graph, including the graph’s diameter, and at least one other metric of your choosing. You may either code the functions by hand (to build your intuition and insight), or use functions in an existing package.\n",
    "3. Use a visualization tool of your choice (Neo4j, Gephi, etc.) to display information.\n",
    "4. Please record a short video (~ 5 minutes), and submit a link to the video as part of your homework submission.\n",
    "\n",
    "## Assignment Steps\n",
    "### Loading graph\n",
    "First import the libraries necessary for this assignment: `networkx` as \"nx\" and `network` from `pyvis` as \"net\". We also import `pandas`."
   ]
  },
  {
   "cell_type": "code",
   "execution_count": 1,
   "id": "frequent-ghana",
   "metadata": {},
   "outputs": [
    {
     "name": "stdout",
     "output_type": "stream",
     "text": [
      "Collecting pyvis\n",
      "  Using cached pyvis-0.1.9-py3-none-any.whl (23 kB)\n",
      "Requirement already satisfied: networkx>=1.11 in /Users/dpong/opt/anaconda3/envs/sps620env/lib/python3.7/site-packages (from pyvis) (1.11)\n",
      "Requirement already satisfied: ipython>=5.3.0 in /Users/dpong/opt/anaconda3/envs/sps620env/lib/python3.7/site-packages (from pyvis) (7.22.0)\n",
      "Collecting jsonpickle>=1.4.1\n",
      "  Using cached jsonpickle-2.0.0-py2.py3-none-any.whl (37 kB)\n",
      "Requirement already satisfied: jinja2>=2.9.6 in /Users/dpong/opt/anaconda3/envs/sps620env/lib/python3.7/site-packages (from pyvis) (3.0.0)\n",
      "Requirement already satisfied: setuptools>=18.5 in /Users/dpong/opt/anaconda3/envs/sps620env/lib/python3.7/site-packages (from ipython>=5.3.0->pyvis) (52.0.0.post20210125)\n",
      "Requirement already satisfied: traitlets>=4.2 in /Users/dpong/opt/anaconda3/envs/sps620env/lib/python3.7/site-packages (from ipython>=5.3.0->pyvis) (5.0.5)\n",
      "Requirement already satisfied: jedi>=0.16 in /Users/dpong/opt/anaconda3/envs/sps620env/lib/python3.7/site-packages (from ipython>=5.3.0->pyvis) (0.17.0)\n",
      "Requirement already satisfied: pickleshare in /Users/dpong/opt/anaconda3/envs/sps620env/lib/python3.7/site-packages (from ipython>=5.3.0->pyvis) (0.7.5)\n",
      "Requirement already satisfied: prompt-toolkit!=3.0.0,!=3.0.1,<3.1.0,>=2.0.0 in /Users/dpong/opt/anaconda3/envs/sps620env/lib/python3.7/site-packages (from ipython>=5.3.0->pyvis) (3.0.17)\n",
      "Requirement already satisfied: pygments in /Users/dpong/opt/anaconda3/envs/sps620env/lib/python3.7/site-packages (from ipython>=5.3.0->pyvis) (2.9.0)\n",
      "Requirement already satisfied: pexpect>4.3 in /Users/dpong/opt/anaconda3/envs/sps620env/lib/python3.7/site-packages (from ipython>=5.3.0->pyvis) (4.8.0)\n",
      "Requirement already satisfied: decorator in /Users/dpong/opt/anaconda3/envs/sps620env/lib/python3.7/site-packages (from ipython>=5.3.0->pyvis) (5.0.9)\n",
      "Requirement already satisfied: appnope in /Users/dpong/opt/anaconda3/envs/sps620env/lib/python3.7/site-packages (from ipython>=5.3.0->pyvis) (0.1.2)\n",
      "Requirement already satisfied: backcall in /Users/dpong/opt/anaconda3/envs/sps620env/lib/python3.7/site-packages (from ipython>=5.3.0->pyvis) (0.2.0)\n",
      "Requirement already satisfied: parso>=0.7.0 in /Users/dpong/opt/anaconda3/envs/sps620env/lib/python3.7/site-packages (from jedi>=0.16->ipython>=5.3.0->pyvis) (0.8.2)\n",
      "Requirement already satisfied: MarkupSafe>=2.0.0rc2 in /Users/dpong/opt/anaconda3/envs/sps620env/lib/python3.7/site-packages (from jinja2>=2.9.6->pyvis) (2.0.1)\n",
      "Requirement already satisfied: importlib-metadata in /Users/dpong/opt/anaconda3/envs/sps620env/lib/python3.7/site-packages (from jsonpickle>=1.4.1->pyvis) (3.10.0)\n",
      "Requirement already satisfied: ptyprocess>=0.5 in /Users/dpong/opt/anaconda3/envs/sps620env/lib/python3.7/site-packages (from pexpect>4.3->ipython>=5.3.0->pyvis) (0.7.0)\n",
      "Requirement already satisfied: wcwidth in /Users/dpong/opt/anaconda3/envs/sps620env/lib/python3.7/site-packages (from prompt-toolkit!=3.0.0,!=3.0.1,<3.1.0,>=2.0.0->ipython>=5.3.0->pyvis) (0.2.5)\n",
      "Requirement already satisfied: ipython-genutils in /Users/dpong/opt/anaconda3/envs/sps620env/lib/python3.7/site-packages (from traitlets>=4.2->ipython>=5.3.0->pyvis) (0.2.0)\n",
      "Requirement already satisfied: zipp>=0.5 in /Users/dpong/opt/anaconda3/envs/sps620env/lib/python3.7/site-packages (from importlib-metadata->jsonpickle>=1.4.1->pyvis) (3.4.1)\n",
      "Requirement already satisfied: typing-extensions>=3.6.4 in /Users/dpong/opt/anaconda3/envs/sps620env/lib/python3.7/site-packages (from importlib-metadata->jsonpickle>=1.4.1->pyvis) (3.7.4.3)\n",
      "Installing collected packages: jsonpickle, pyvis\n",
      "Successfully installed jsonpickle-2.0.0 pyvis-0.1.9\n"
     ]
    }
   ],
   "source": [
    "!pip install pyvis\n"
   ]
  },
  {
   "cell_type": "code",
   "execution_count": 2,
   "id": "0a53e1ed",
   "metadata": {},
   "outputs": [],
   "source": [
    "import networkx as nx\n",
    "from pyvis import network as net\n",
    "import pandas as pd"
   ]
  },
  {
   "cell_type": "markdown",
   "id": "f32f093d",
   "metadata": {},
   "source": [
    "\n",
    "\n",
    "\n",
    "\n",
    "First we import the Bitcoin OTC transaction database from Github, with user rating data from [Bitcoin OTC trust weighted signed network](https://snap.stanford.edu/data/soc-sign-bitcoin-otc.html). The original dataset has 5,881 nodes, but was cut down to 500 nodes for the purposes of this assignment. Taken from the website here is a little description of the data:  \n",
    "\"_This is who-trusts-whom network of people who trade using Bitcoin on a platform called Bitcoin OTC. Since Bitcoin users are anonymous, there is a need to maintain a record of users' reputation to prevent transactions with fraudulent and risky users. Members of Bitcoin OTC rate other members in a scale of -10 (total distrust) to +10 (total trust) in steps of 1. This is the first explicit weighted signed directed network available for research._\""
   ]
  },
  {
   "cell_type": "code",
   "execution_count": 3,
   "id": "100b8497",
   "metadata": {},
   "outputs": [],
   "source": [
    "url = 'https://raw.githubusercontent.com/sbiguzzi/data620/main/Assignments/soc-sign-bitcoinotc.csv'\n",
    "bitcoin_data = pd.read_csv(url,header=0)[:100]"
   ]
  },
  {
   "cell_type": "markdown",
   "id": "1bf58b7b",
   "metadata": {},
   "source": [
    "Next we instantiate the `nx.Graph()`"
   ]
  },
  {
   "cell_type": "code",
   "execution_count": 4,
   "id": "4881aaf5",
   "metadata": {},
   "outputs": [],
   "source": [
    "bit_g = nx.Graph()"
   ]
  },
  {
   "cell_type": "markdown",
   "id": "38491efc",
   "metadata": {},
   "source": [
    "We then have to assign nodes and edges to our graph, `bit_g`. To do this we  \n",
    "1. Seperate the source node, the target node, and the rating into seperate lists"
   ]
  },
  {
   "cell_type": "code",
   "execution_count": 5,
   "id": "db926de4",
   "metadata": {},
   "outputs": [],
   "source": [
    "source = bitcoin_data['Source']\n",
    "target = bitcoin_data['Target']\n",
    "rating = bitcoin_data['Rating']"
   ]
  },
  {
   "cell_type": "markdown",
   "id": "99594212",
   "metadata": {},
   "source": [
    "2. Zip the data into a list of tuple containing the (source,target,rating)"
   ]
  },
  {
   "cell_type": "code",
   "execution_count": 6,
   "id": "856b0082",
   "metadata": {},
   "outputs": [],
   "source": [
    "edge_data = zip(source, target, rating)"
   ]
  },
  {
   "cell_type": "markdown",
   "id": "64b09332",
   "metadata": {},
   "source": [
    "3. Use the function `add_node()` to assign each source node in the tuple to a node on the graph\n",
    "4. Use the function `add_edges()` to assign edges connecting each source and target node, using the ratings as a weight for the edge"
   ]
  },
  {
   "cell_type": "code",
   "execution_count": 7,
   "id": "369412d8",
   "metadata": {
    "scrolled": false
   },
   "outputs": [],
   "source": [
    "for e in edge_data:\n",
    "    src = e[0]\n",
    "    tgt = e[1]\n",
    "    rtg = e[2]\n",
    "    bit_g.add_node(src)\n",
    "    bit_g.add_edge(src,tgt,weight=rtg)"
   ]
  },
  {
   "cell_type": "markdown",
   "id": "a172e238",
   "metadata": {},
   "source": [
    "### Graph metrics\n",
    "We find the diameter of the graph by using the function `diameter()` from the nx library."
   ]
  },
  {
   "cell_type": "code",
   "execution_count": 8,
   "id": "41586b75",
   "metadata": {},
   "outputs": [
    {
     "name": "stdout",
     "output_type": "stream",
     "text": [
      "The diameter of the graph is: 6\n"
     ]
    }
   ],
   "source": [
    "print(\"The diameter of the graph is:\",nx.diameter(bit_g))"
   ]
  },
  {
   "cell_type": "markdown",
   "id": "b538810f",
   "metadata": {},
   "source": [
    "We find the degree centrality score for each node to decide which node is the most important based on the number of connections it has. We use degree_centrality() function which returns back a dictionary of node as keys and degree centrality as values."
   ]
  },
  {
   "cell_type": "code",
   "execution_count": 26,
   "id": "a5fcfdef",
   "metadata": {
    "scrolled": false
   },
   "outputs": [
    {
     "name": "stdout",
     "output_type": "stream",
     "text": [
      "Top 10 key-value pairs in the dictionary: \n",
      " {'8: 0.08108108108108109', '10: 0.21621621621621623', '5: 0.08108108108108109', '1: 0.3783783783783784', '6: 0.1891891891891892', '4: 0.13513513513513514', '3: 0.13513513513513514', '2: 0.13513513513513514', '7: 0.2702702702702703'}\n"
     ]
    }
   ],
   "source": [
    "deg_centrality = nx.degree_centrality(bit_g)\n",
    "print('Top 10 key-value pairs in the dictionary: \\n',{str(i)+': '+str(deg_centrality[i]) for i in range(1,11) if i in deg_centrality.keys()})"
   ]
  },
  {
   "cell_type": "markdown",
   "id": "5a04d3f8",
   "metadata": {},
   "source": [
    "We could then find the node with the highest degree centrality by assigning the values and keys to a list and taking the index of the max value and finding the key with the same index. We thought this was the most relevant measure because each user is rating their experience with other users, so the more connections you have the more ratings and presumably the higher ratings you have."
   ]
  },
  {
   "cell_type": "code",
   "execution_count": 10,
   "id": "3e63d480",
   "metadata": {},
   "outputs": [
    {
     "name": "stdout",
     "output_type": "stream",
     "text": [
      "The node with the highest degree centrality is: 1\n"
     ]
    }
   ],
   "source": [
    "deg_centrality_vals = list(deg_centrality.values())\n",
    "deg_centrality_keys = list(deg_centrality.keys())\n",
    "print(\"The node with the highest degree centrality is:\",\n",
    "      deg_centrality_keys[deg_centrality_vals.index(max(deg_centrality.values()))])"
   ]
  },
  {
   "cell_type": "markdown",
   "id": "00f43e35",
   "metadata": {},
   "source": [
    "### Visualizing graph\n",
    "we use the `pyvis` package Network class to instatiate a new Network."
   ]
  },
  {
   "cell_type": "code",
   "execution_count": 11,
   "id": "13476ac2",
   "metadata": {},
   "outputs": [],
   "source": [
    "bit_vis_g = net.Network(height='1000px', width='100%', bgcolor='#222222', font_color='white', notebook=True)"
   ]
  },
  {
   "cell_type": "markdown",
   "id": "df2dcd95",
   "metadata": {},
   "source": [
    "We used the set function to create a unique list of elements which comprises source and target nodes. Call it nodes. We then add the nodes from the node list (Variable Name: nodes) into the pyvis Network instantiated earlier as bit_vis_g. "
   ]
  },
  {
   "cell_type": "code",
   "execution_count": 21,
   "id": "f56b9f4d",
   "metadata": {},
   "outputs": [],
   "source": [
    "nodes = set(source.append(target))\n",
    "bit_vis_g.add_nodes(nodes)"
   ]
  },
  {
   "cell_type": "markdown",
   "id": "064bdf7e",
   "metadata": {},
   "source": [
    "We reassign the edge_data by using zip and add the edges to the Network by making the zip into a list."
   ]
  },
  {
   "cell_type": "code",
   "execution_count": 22,
   "id": "1d95409a",
   "metadata": {},
   "outputs": [],
   "source": [
    "edge_data = zip(source, target, rating)\n",
    "bit_vis_g.add_edges(list(edge_data))"
   ]
  },
  {
   "cell_type": "markdown",
   "id": "fe6c8326",
   "metadata": {},
   "source": [
    "Finally we call the `show()` funciton to show the graph."
   ]
  },
  {
   "cell_type": "code",
   "execution_count": 23,
   "id": "13e663dd",
   "metadata": {},
   "outputs": [
    {
     "data": {
      "text/html": [
       "\n",
       "        <iframe\n",
       "            width=\"100%\"\n",
       "            height=\"1000px\"\n",
       "            src=\"Bitcoin_OTC_Graph.html\"\n",
       "            frameborder=\"0\"\n",
       "            allowfullscreen\n",
       "        ></iframe>\n",
       "        "
      ],
      "text/plain": [
       "<IPython.lib.display.IFrame at 0x7fe16cf40950>"
      ]
     },
     "execution_count": 23,
     "metadata": {},
     "output_type": "execute_result"
    }
   ],
   "source": [
    "bit_vis_g.show(\"Bitcoin_OTC_Graph.html\")"
   ]
  },
  {
   "cell_type": "code",
   "execution_count": 28,
   "id": "f6498560",
   "metadata": {},
   "outputs": [
    {
     "ename": "SyntaxError",
     "evalue": "invalid syntax (<ipython-input-28-f3ecc9fda817>, line 1)",
     "output_type": "error",
     "traceback": [
      "\u001b[0;36m  File \u001b[0;32m\"<ipython-input-28-f3ecc9fda817>\"\u001b[0;36m, line \u001b[0;32m1\u001b[0m\n\u001b[0;31m    [Homework 2.1 - Assignment: Pyvis Networkt](https://raw.githubusercontent.com/sbiguzzi/data620/main/Assignments/assignment2_pyvis_network_final_output.gif)\u001b[0m\n\u001b[0m                ^\u001b[0m\n\u001b[0;31mSyntaxError\u001b[0m\u001b[0;31m:\u001b[0m invalid syntax\n"
     ]
    }
   ],
   "source": [
    "[Homework 2.1 - Assignment: Pyvis Networkt](https://raw.githubusercontent.com/sbiguzzi/data620/main/Assignments/assignment2_pyvis_network_final_output.gif)"
   ]
  },
  {
   "cell_type": "markdown",
   "id": "b3930e23",
   "metadata": {},
   "source": [
    "### Youtube Link"
   ]
  },
  {
   "cell_type": "markdown",
   "id": "575af5cd",
   "metadata": {},
   "source": [
    "[Homework 2.1 - Assignment: Graph Visualization](insert youtube link)"
   ]
  }
 ],
 "metadata": {
  "kernelspec": {
   "display_name": "Python 3",
   "language": "python",
   "name": "python3"
  },
  "language_info": {
   "codemirror_mode": {
    "name": "ipython",
    "version": 3
   },
   "file_extension": ".py",
   "mimetype": "text/x-python",
   "name": "python",
   "nbconvert_exporter": "python",
   "pygments_lexer": "ipython3",
   "version": "3.7.10"
  }
 },
 "nbformat": 4,
 "nbformat_minor": 5
}
