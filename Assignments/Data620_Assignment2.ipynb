{
 "cells": [
  {
   "cell_type": "markdown",
   "metadata": {},
   "source": [
    "# Homework 2.1 - Assignment: Graph Visualization\n",
    "###### Stefano Biguzzi, Ian Costello, Dennis Pong\n",
    "\n",
    "## Assignment Description\n",
    "This week's assignment is to:\n",
    "1. Load a graph database of your choosing from a text file or other source. If you take a large network dataset from the web (such as from https://snap.stanford.edu/data/), please feel free at this point to load just a small subset of the nodes and edges.\n",
    "2. Create basic analysis on the graph, including the graph’s diameter, and at least one other metric of your choosing. You may either code the functions by hand (to build your intuition and insight), or use functions in an existing package.\n",
    "3. Use a visualization tool of your choice (Neo4j, Gephi, etc.) to display information.\n",
    "4. Please record a short video (~ 5 minutes), and submit a link to the video as part of your homework submission.\n",
    "\n",
    "## Assignment Steps\n",
    "### Loading graph\n",
    "First import the libraries necessary for this assignment: `networkx` as \"nx\" and `network` from `pyvis` as \"net\". We also import `pandas`."
   ]
  },
  {
   "cell_type": "code",
   "execution_count": 54,
   "metadata": {},
   "outputs": [],
   "source": [
    "import networkx as nx\n",
    "from pyvis import network as net\n",
    "from IPython.core.display import display, HTML\n",
    "import pandas as pd\n",
    "import matplotlib.pyplot as plt"
   ]
  },
  {
   "cell_type": "markdown",
   "metadata": {},
   "source": [
    "First we import the Bitcoin OTC transaction database from Github, with user rating data from [Bitcoin OTC trust weighted signed network](https://snap.stanford.edu/data/soc-sign-bitcoin-otc.html). The original dataset has 5,881 nodes, but was cut down to 500 nodes for the purposes of this assignment. Taken from the website here is a little description of the data:  \n",
    "\"_This is who-trusts-whom network of people who trade using Bitcoin on a platform called Bitcoin OTC. Since Bitcoin users are anonymous, there is a need to maintain a record of users' reputation to prevent transactions with fraudulent and risky users. Members of Bitcoin OTC rate other members in a scale of -10 (total distrust) to +10 (total trust) in steps of 1. This is the first explicit weighted signed directed network available for research._\""
   ]
  },
  {
   "cell_type": "code",
   "execution_count": 55,
   "metadata": {},
   "outputs": [],
   "source": [
    "url = 'https://raw.githubusercontent.com/sbiguzzi/data620/main/Assignments/soc-sign-bitcoinotc.csv'\n",
    "bitcoin_data = pd.read_csv(url,header=0)[:100]"
   ]
  },
  {
   "cell_type": "markdown",
   "metadata": {},
   "source": [
    "Next we instantiate the `nx.Graph()`"
   ]
  },
  {
   "cell_type": "code",
   "execution_count": 56,
   "metadata": {},
   "outputs": [],
   "source": [
    "bit_g = nx.Graph()"
   ]
  },
  {
   "cell_type": "markdown",
   "metadata": {},
   "source": [
    "We then have to assign nodes and edges to our graph, `bit_g`. To do this we  \n",
    "1. Seperate the source node, the target node, and the rating into seperate lists"
   ]
  },
  {
   "cell_type": "code",
   "execution_count": 57,
   "metadata": {},
   "outputs": [],
   "source": [
    "source = bitcoin_data['Source']\n",
    "target = bitcoin_data['Target']\n",
    "rating = bitcoin_data['Rating']"
   ]
  },
  {
   "cell_type": "markdown",
   "metadata": {},
   "source": [
    "2. Zip the data into a list of tuple containing the (source,target,rating)"
   ]
  },
  {
   "cell_type": "code",
   "execution_count": 58,
   "metadata": {},
   "outputs": [],
   "source": [
    "edge_data = zip(source, target, rating)"
   ]
  },
  {
   "cell_type": "markdown",
   "metadata": {},
   "source": [
    "3. Use the function `add_node()` to assign each source node in the tuple to a node on the graph\n",
    "4. Use the function `add_edges()` to assign edges connecting each source and target node, using the ratings as a weight for the edge"
   ]
  },
  {
   "cell_type": "code",
   "execution_count": 59,
   "metadata": {
    "scrolled": false
   },
   "outputs": [],
   "source": [
    "for e in edge_data:\n",
    "    src = e[0]\n",
    "    tgt = e[1]\n",
    "    rat = e[2]\n",
    "    bit_g.add_node(src)\n",
    "    bit_g.add_edge(src,tgt,weight=rat)"
   ]
  },
  {
   "cell_type": "markdown",
   "metadata": {},
   "source": [
    "### Graph metrics\n",
    "We find the diameter of the graph by using the function `diameter()` from the nx library."
   ]
  },
  {
   "cell_type": "code",
   "execution_count": 60,
   "metadata": {},
   "outputs": [
    {
     "name": "stdout",
     "output_type": "stream",
     "text": [
      "The diameter of the graph is: 6\n"
     ]
    }
   ],
   "source": [
    "print(\"The diameter of the graph is:\",nx.diameter(bit_g))"
   ]
  },
  {
   "cell_type": "markdown",
   "metadata": {},
   "source": [
    "We find the degree centrality score for each node to decide which node is the most important based on the number of connections it has. We use degree_centrality() function which returns back a dictionary of node as keys and degree centrality as values."
   ]
  },
  {
   "cell_type": "code",
   "execution_count": 61,
   "metadata": {
    "scrolled": false
   },
   "outputs": [
    {
     "name": "stdout",
     "output_type": "stream",
     "text": [
      "Example dictionary: \n",
      " {'6: 0.1891891891891892', '7: 0.2702702702702703', '5: 0.08108108108108109', '8: 0.08108108108108109', '1: 0.3783783783783784', '4: 0.13513513513513514', '10: 0.21621621621621623', '2: 0.13513513513513514', '3: 0.13513513513513514'}\n"
     ]
    }
   ],
   "source": [
    "deg_centrality = nx.degree_centrality(bit_g)\n",
    "print('Example dictionary: \\n',{str(i)+': '+str(deg_centrality[i]) for i in range(1,11) if i in deg_centrality.keys()})"
   ]
  },
  {
   "cell_type": "markdown",
   "metadata": {},
   "source": [
    "We could then find the node with the highest degree centrality by assigning the values and keys to a list and taking the index of the max value and finding the key with the same index. We thought this was the most relevant measure because each user is rating their experience with other users, so the more connections you have the more ratings and presumably the higher ratings you have."
   ]
  },
  {
   "cell_type": "code",
   "execution_count": 62,
   "metadata": {},
   "outputs": [
    {
     "name": "stdout",
     "output_type": "stream",
     "text": [
      "The node with the highest degree centrality is: 1\n"
     ]
    }
   ],
   "source": [
    "deg_centrality_vals = list(deg_centrality.values())\n",
    "deg_centrality_keys = list(deg_centrality.keys())\n",
    "print(\"The node with the highest degree centrality is:\",\n",
    "      deg_centrality_keys[deg_centrality_vals.index(max(deg_centrality.values()))])"
   ]
  },
  {
   "cell_type": "markdown",
   "metadata": {},
   "source": [
    "### Visualizing graph\n",
    "we use the `pyvis` package Network class to instatiate a new Network."
   ]
  },
  {
   "cell_type": "code",
   "execution_count": 63,
   "metadata": {},
   "outputs": [],
   "source": [
    "bit_vis_g = net.Network(height='1000px', width='100%', bgcolor='#222222', font_color='white', notebook=True)"
   ]
  },
  {
   "cell_type": "markdown",
   "metadata": {},
   "source": [
    "We assign the node list as the list of all the source and target nodes from the dataset."
   ]
  },
  {
   "cell_type": "code",
   "execution_count": 64,
   "metadata": {},
   "outputs": [],
   "source": [
    "nodes = set(source.append(target))\n",
    "bit_vis_g.add_nodes(nodes)"
   ]
  },
  {
   "cell_type": "markdown",
   "metadata": {},
   "source": [
    "We reassign the edge_data by using zip and add the edges to the Network by making the zip into a list."
   ]
  },
  {
   "cell_type": "code",
   "execution_count": 65,
   "metadata": {},
   "outputs": [],
   "source": [
    "edge_data = zip(source, target, rating)\n",
    "bit_vis_g.add_edges(list(edge_data))"
   ]
  },
  {
   "cell_type": "markdown",
   "metadata": {},
   "source": [
    "Finally we call the `show()` funciton to show the graph."
   ]
  },
  {
   "cell_type": "code",
   "execution_count": 70,
   "metadata": {},
   "outputs": [
    {
     "data": {
      "text/html": [
       "<html>\n",
       "<head>\n",
       "<link rel=\"stylesheet\" href=\"https://cdnjs.cloudflare.com/ajax/libs/vis/4.16.1/vis.css\" type=\"text/css\" />\n",
       "<script type=\"text/javascript\" src=\"https://cdnjs.cloudflare.com/ajax/libs/vis/4.16.1/vis-network.min.js\"> </script>\n",
       "<center>\n",
       "<h1></h1>\n",
       "</center>\n",
       "\n",
       "<!-- <link rel=\"stylesheet\" href=\"../node_modules/vis/dist/vis.min.css\" type=\"text/css\" />\n",
       "<script type=\"text/javascript\" src=\"../node_modules/vis/dist/vis.js\"> </script>-->\n",
       "\n",
       "<style type=\"text/css\">\n",
       "\n",
       "        #mynetwork {\n",
       "            width: 100%;\n",
       "            height: 1000px;\n",
       "            background-color: #222222;\n",
       "            border: 1px solid lightgray;\n",
       "            position: relative;\n",
       "            float: left;\n",
       "        }\n",
       "\n",
       "        \n",
       "\n",
       "        \n",
       "\n",
       "        \n",
       "</style>\n",
       "\n",
       "</head>\n",
       "\n",
       "<body>\n",
       "<div id = \"mynetwork\"></div>\n",
       "\n",
       "\n",
       "<script type=\"text/javascript\">\n",
       "\n",
       "    // initialize global variables.\n",
       "    var edges;\n",
       "    var nodes;\n",
       "    var network; \n",
       "    var container;\n",
       "    var options, data;\n",
       "\n",
       "    \n",
       "    // This method is responsible for drawing the graph, returns the drawn network\n",
       "    function drawGraph() {\n",
       "        var container = document.getElementById('mynetwork');\n",
       "        \n",
       "        \n",
       "\n",
       "        // parsing and collecting nodes and edges from the python\n",
       "        nodes = new vis.DataSet([{\"font\": {\"color\": \"white\"}, \"id\": 1, \"label\": 1, \"shape\": \"dot\"}, {\"font\": {\"color\": \"white\"}, \"id\": 2, \"label\": 2, \"shape\": \"dot\"}, {\"font\": {\"color\": \"white\"}, \"id\": 3, \"label\": 3, \"shape\": \"dot\"}, {\"font\": {\"color\": \"white\"}, \"id\": 4, \"label\": 4, \"shape\": \"dot\"}, {\"font\": {\"color\": \"white\"}, \"id\": 5, \"label\": 5, \"shape\": \"dot\"}, {\"font\": {\"color\": \"white\"}, \"id\": 6, \"label\": 6, \"shape\": \"dot\"}, {\"font\": {\"color\": \"white\"}, \"id\": 7, \"label\": 7, \"shape\": \"dot\"}, {\"font\": {\"color\": \"white\"}, \"id\": 8, \"label\": 8, \"shape\": \"dot\"}, {\"font\": {\"color\": \"white\"}, \"id\": 10, \"label\": 10, \"shape\": \"dot\"}, {\"font\": {\"color\": \"white\"}, \"id\": 13, \"label\": 13, \"shape\": \"dot\"}, {\"font\": {\"color\": \"white\"}, \"id\": 15, \"label\": 15, \"shape\": \"dot\"}, {\"font\": {\"color\": \"white\"}, \"id\": 16, \"label\": 16, \"shape\": \"dot\"}, {\"font\": {\"color\": \"white\"}, \"id\": 17, \"label\": 17, \"shape\": \"dot\"}, {\"font\": {\"color\": \"white\"}, \"id\": 19, \"label\": 19, \"shape\": \"dot\"}, {\"font\": {\"color\": \"white\"}, \"id\": 20, \"label\": 20, \"shape\": \"dot\"}, {\"font\": {\"color\": \"white\"}, \"id\": 21, \"label\": 21, \"shape\": \"dot\"}, {\"font\": {\"color\": \"white\"}, \"id\": 23, \"label\": 23, \"shape\": \"dot\"}, {\"font\": {\"color\": \"white\"}, \"id\": 25, \"label\": 25, \"shape\": \"dot\"}, {\"font\": {\"color\": \"white\"}, \"id\": 26, \"label\": 26, \"shape\": \"dot\"}, {\"font\": {\"color\": \"white\"}, \"id\": 28, \"label\": 28, \"shape\": \"dot\"}, {\"font\": {\"color\": \"white\"}, \"id\": 29, \"label\": 29, \"shape\": \"dot\"}, {\"font\": {\"color\": \"white\"}, \"id\": 31, \"label\": 31, \"shape\": \"dot\"}, {\"font\": {\"color\": \"white\"}, \"id\": 32, \"label\": 32, \"shape\": \"dot\"}, {\"font\": {\"color\": \"white\"}, \"id\": 34, \"label\": 34, \"shape\": \"dot\"}, {\"font\": {\"color\": \"white\"}, \"id\": 35, \"label\": 35, \"shape\": \"dot\"}, {\"font\": {\"color\": \"white\"}, \"id\": 36, \"label\": 36, \"shape\": \"dot\"}, {\"font\": {\"color\": \"white\"}, \"id\": 37, \"label\": 37, \"shape\": \"dot\"}, {\"font\": {\"color\": \"white\"}, \"id\": 39, \"label\": 39, \"shape\": \"dot\"}, {\"font\": {\"color\": \"white\"}, \"id\": 41, \"label\": 41, \"shape\": \"dot\"}, {\"font\": {\"color\": \"white\"}, \"id\": 44, \"label\": 44, \"shape\": \"dot\"}, {\"font\": {\"color\": \"white\"}, \"id\": 45, \"label\": 45, \"shape\": \"dot\"}, {\"font\": {\"color\": \"white\"}, \"id\": 46, \"label\": 46, \"shape\": \"dot\"}, {\"font\": {\"color\": \"white\"}, \"id\": 47, \"label\": 47, \"shape\": \"dot\"}, {\"font\": {\"color\": \"white\"}, \"id\": 51, \"label\": 51, \"shape\": \"dot\"}, {\"font\": {\"color\": \"white\"}, \"id\": 52, \"label\": 52, \"shape\": \"dot\"}, {\"font\": {\"color\": \"white\"}, \"id\": 53, \"label\": 53, \"shape\": \"dot\"}, {\"font\": {\"color\": \"white\"}, \"id\": 54, \"label\": 54, \"shape\": \"dot\"}, {\"font\": {\"color\": \"white\"}, \"id\": 55, \"label\": 55, \"shape\": \"dot\"}]);\n",
       "        edges = new vis.DataSet([{\"from\": 6, \"to\": 2, \"width\": 4}, {\"from\": 6, \"to\": 5, \"width\": 2}, {\"from\": 1, \"to\": 15, \"width\": 1}, {\"from\": 4, \"to\": 3, \"width\": 7}, {\"from\": 13, \"to\": 16, \"width\": 8}, {\"from\": 13, \"to\": 10, \"width\": 8}, {\"from\": 7, \"to\": 5, \"width\": 1}, {\"from\": 2, \"to\": 21, \"width\": 5}, {\"from\": 2, \"to\": 20, \"width\": 5}, {\"from\": 21, \"to\": 1, \"width\": 8}, {\"from\": 21, \"to\": 10, \"width\": 8}, {\"from\": 21, \"to\": 8, \"width\": 9}, {\"from\": 21, \"to\": 3, \"width\": 7}, {\"from\": 17, \"to\": 3, \"width\": 5}, {\"from\": 17, \"to\": 23, \"width\": 1}, {\"from\": 10, \"to\": 1, \"width\": 8}, {\"from\": 10, \"to\": 6, \"width\": 7}, {\"from\": 10, \"to\": 8, \"width\": 1}, {\"from\": 10, \"to\": 25, \"width\": 10}, {\"from\": 10, \"to\": 2, \"width\": 7}, {\"from\": 10, \"to\": 3, \"width\": 7}, {\"from\": 4, \"to\": 26, \"width\": 1}, {\"from\": 5, \"to\": 1, \"width\": 3}, {\"from\": 6, \"to\": 4, \"width\": 2}, {\"from\": 2, \"to\": 4, \"width\": 5}, {\"from\": 17, \"to\": 28, \"width\": 1}, {\"from\": 17, \"to\": 13, \"width\": 2}, {\"from\": 13, \"to\": 29, \"width\": 2}, {\"from\": 17, \"to\": 20, \"width\": 2}, {\"from\": 4, \"to\": 31, \"width\": 1}, {\"from\": 32, \"to\": 6, \"width\": 1}, {\"from\": 13, \"to\": 1, \"width\": 8}, {\"from\": 7, \"to\": 34, \"width\": 1}, {\"from\": 32, \"to\": 1, \"width\": 1}, {\"from\": 1, \"to\": 34, \"width\": 1}, {\"from\": 34, \"to\": 13, \"width\": 1}, {\"from\": 6, \"to\": 7, \"width\": 5}, {\"from\": 1, \"to\": 17, \"width\": 9}, {\"from\": 1, \"to\": 31, \"width\": 2}, {\"from\": 35, \"to\": 6, \"width\": 2}, {\"from\": 36, \"to\": 37, \"width\": 1}, {\"from\": 35, \"to\": 1, \"width\": 1}, {\"from\": 8, \"to\": 1, \"width\": 3}, {\"from\": 7, \"to\": 29, \"width\": 2}, {\"from\": 1, \"to\": 20, \"width\": 2}, {\"from\": 37, \"to\": 44, \"width\": 1}, {\"from\": 39, \"to\": 45, \"width\": 1}, {\"from\": 39, \"to\": 7, \"width\": 3}, {\"from\": 39, \"to\": 44, \"width\": 1}, {\"from\": 23, \"to\": 19, \"width\": 1}, {\"from\": 36, \"to\": 46, \"width\": 1}, {\"from\": 47, \"to\": 1, \"width\": 2}, {\"from\": 13, \"to\": 7, \"width\": 1}, {\"from\": 29, \"to\": 51, \"width\": 1}, {\"from\": 29, \"to\": 52, \"width\": 1}, {\"from\": 45, \"to\": 53, \"width\": 2}, {\"from\": 45, \"to\": 54, \"width\": 2}, {\"from\": 1, \"to\": 54, \"width\": 1}, {\"from\": 7, \"to\": 3, \"width\": 6}, {\"from\": 36, \"to\": 41, \"width\": 2}, {\"from\": 36, \"to\": 21, \"width\": 2}, {\"from\": 7, \"to\": 36, \"width\": 3}, {\"from\": 7, \"to\": 53, \"width\": 4}, {\"from\": 7, \"to\": 55, \"width\": 1}]);\n",
       "\n",
       "        // adding nodes and edges to the graph\n",
       "        data = {nodes: nodes, edges: edges};\n",
       "\n",
       "        var options = {\n",
       "    \"configure\": {\n",
       "        \"enabled\": false\n",
       "    },\n",
       "    \"edges\": {\n",
       "        \"color\": {\n",
       "            \"inherit\": true\n",
       "        },\n",
       "        \"smooth\": {\n",
       "            \"enabled\": false,\n",
       "            \"type\": \"continuous\"\n",
       "        }\n",
       "    },\n",
       "    \"interaction\": {\n",
       "        \"dragNodes\": true,\n",
       "        \"hideEdgesOnDrag\": false,\n",
       "        \"hideNodesOnDrag\": false\n",
       "    },\n",
       "    \"physics\": {\n",
       "        \"enabled\": true,\n",
       "        \"stabilization\": {\n",
       "            \"enabled\": true,\n",
       "            \"fit\": true,\n",
       "            \"iterations\": 1000,\n",
       "            \"onlyDynamicEdges\": false,\n",
       "            \"updateInterval\": 50\n",
       "        }\n",
       "    }\n",
       "};\n",
       "        \n",
       "        \n",
       "\n",
       "        \n",
       "\n",
       "        network = new vis.Network(container, data, options);\n",
       "\t \n",
       "        \n",
       "\n",
       "\n",
       "        \n",
       "\n",
       "        return network;\n",
       "\n",
       "    }\n",
       "\n",
       "    drawGraph();\n",
       "\n",
       "</script>\n",
       "</body>\n",
       "</html>"
      ],
      "text/plain": [
       "<IPython.core.display.HTML object>"
      ]
     },
     "metadata": {},
     "output_type": "display_data"
    }
   ],
   "source": [
    "bit_vis_g.show(\"Bitcoin_OTC_Graph.html\")\n",
    "display(HTML(\"Bitcoin_OTC_Graph.html\"))"
   ]
  }
 ],
 "metadata": {
  "kernelspec": {
   "display_name": "Python 3",
   "language": "python",
   "name": "python3"
  },
  "language_info": {
   "codemirror_mode": {
    "name": "ipython",
    "version": 3
   },
   "file_extension": ".py",
   "mimetype": "text/x-python",
   "name": "python",
   "nbconvert_exporter": "python",
   "pygments_lexer": "ipython3",
   "version": "3.8.5"
  }
 },
 "nbformat": 4,
 "nbformat_minor": 5
}
